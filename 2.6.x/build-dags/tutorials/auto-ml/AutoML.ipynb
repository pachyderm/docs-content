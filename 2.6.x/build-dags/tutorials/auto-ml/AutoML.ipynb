{
 "cells": [
  {
   "cell_type": "markdown",
   "id": "ce4afe71-57e7-4c13-bef4-305243f01964",
   "metadata": {},
   "source": [
    "# Data-driven AutoML\n",
    "In this example, we combine the AutoML library [mljar](https://github.com/mljar/mljar-supervised) and [Pachyderm](https://www.pachyderm.com/). "
   ]
  },
  {
   "cell_type": "markdown",
   "id": "25e2bb6f-dbe3-49fa-bd87-d9d0e53d8802",
   "metadata": {},
   "source": [
    "## Step 1: Ingest Data"
   ]
  },
  {
   "cell_type": "code",
   "execution_count": 1,
   "id": "95df670f-e21d-43ff-a577-abdea8341d0b",
   "metadata": {},
   "outputs": [],
   "source": [
    "!pachctl create repo csv_data "
   ]
  },
  {
   "cell_type": "code",
   "execution_count": 2,
   "id": "bb0f17fb-5840-43d6-8e8a-68677b38e00d",
   "metadata": {},
   "outputs": [
    {
     "name": "stdout",
     "output_type": "stream",
     "text": [
      "../housing-prices-intermediate/data/housing-simplified-1.csv 2.54 KB / 2.54 KB  \n",
      "\u001b[1A\u001b[J../housing-prices-intermediate/data/housing-simplified-1.csv 2.54 KB / 2.54 KB  \n",
      "\u001b[1A\u001b[J../housing-prices-intermediate/data/housing-simplified-1.csv 2.54 KB / 2.54 KB  \n",
      "\u001b[1A\u001b[J../housing-prices-intermediate/data/housing-simplified-1.csv 2.54 KB / 2.54 KB  \n",
      "\u001b[1A\u001b[J../housing-prices-intermediate/data/housing-simplified-1.csv 2.54 KB / 2.54 KB  \n"
     ]
    }
   ],
   "source": [
    "!pachctl put file csv_data@master:housing-simplified.csv -f ../housing-prices-intermediate/data/housing-simplified-1.csv"
   ]
  },
  {
   "cell_type": "markdown",
   "id": "e400b373-e212-4e30-a69d-6a9cf7a1889d",
   "metadata": {},
   "source": [
    "## Step 2: Create AutoML Pipeline"
   ]
  },
  {
   "cell_type": "code",
   "execution_count": 8,
   "id": "b2582231-0c79-4ec3-9f0e-ecfdbbaa69d1",
   "metadata": {},
   "outputs": [],
   "source": [
    "!pachctl update pipeline --jsonnet ./pachyderm/automl.jsonnet  \\\n",
    "    --arg name=\"regression\" \\\n",
    "    --arg input=\"csv_data\" \\\n",
    "    --arg target_col=\"MEDV\" \\\n",
    "    --arg args=\"--mode Explain --random_state 42\""
   ]
  },
  {
   "cell_type": "markdown",
   "id": "eaebf91f-16ed-4eb8-8376-6770988c7081",
   "metadata": {},
   "source": [
    "## Step 3: Update Dataset"
   ]
  },
  {
   "cell_type": "code",
   "execution_count": 10,
   "id": "e78f8d8e-11df-495b-865d-84d33eca455e",
   "metadata": {},
   "outputs": [
    {
     "name": "stdout",
     "output_type": "stream",
     "text": [
      "../housing-prices-intermediate/data/housing-simplified-error.csv 3.46 KB / 3.…  \n",
      "\u001b[1A\u001b[J../housing-prices-intermediate/data/housing-simplified-error.csv 3.46 KB / 3.…  \n",
      "\u001b[1A\u001b[J../housing-prices-intermediate/data/housing-simplified-error.csv 3.46 KB / 3.…  \n",
      "\u001b[1A\u001b[J../housing-prices-intermediate/data/housing-simplified-error.csv 3.46 KB / 3.…  \n",
      "\u001b[1A\u001b[J../housing-prices-intermediate/data/housing-simplified-error.csv 3.46 KB / 3.…  \n",
      "\u001b[1A\u001b[J../housing-prices-intermediate/data/housing-simplified-error.csv 3.46 KB / 3.…  \n"
     ]
    }
   ],
   "source": [
    "!pachctl put file csv_data@master:housing-simplified.csv -f ../housing-prices-intermediate/data/housing-simplified-error.csv"
   ]
  },
  {
   "cell_type": "code",
   "execution_count": 9,
   "id": "1d3c610c-9653-4af3-aa45-e81ce90b3da1",
   "metadata": {},
   "outputs": [
    {
     "name": "stdout",
     "output_type": "stream",
     "text": [
      "../housing-prices-intermediate/data/housing-simplified-2.csv 12.44 KB / 12.44…  \n",
      "\u001b[1A\u001b[J../housing-prices-intermediate/data/housing-simplified-2.csv 12.44 KB / 12.44…  \n",
      "\u001b[1A\u001b[J../housing-prices-intermediate/data/housing-simplified-2.csv 12.44 KB / 12.44…  \n",
      "\u001b[1A\u001b[J../housing-prices-intermediate/data/housing-simplified-2.csv 12.44 KB / 12.44…  \n",
      "\u001b[1A\u001b[J../housing-prices-intermediate/data/housing-simplified-2.csv 12.44 KB / 12.44…  \n",
      "\u001b[1A\u001b[J../housing-prices-intermediate/data/housing-simplified-2.csv 12.44 KB / 12.44…  \n"
     ]
    }
   ],
   "source": [
    "!pachctl put file csv_data@master:housing-simplified.csv -f ../housing-prices-intermediate/data/housing-simplified-2.csv"
   ]
  },
  {
   "cell_type": "code",
   "execution_count": null,
   "id": "d5ad5894-2867-4c51-9103-d39e441816e8",
   "metadata": {},
   "outputs": [],
   "source": []
  }
 ],
 "metadata": {
  "kernelspec": {
   "display_name": "Python 3 (ipykernel)",
   "language": "python",
   "name": "python3"
  },
  "language_info": {
   "codemirror_mode": {
    "name": "ipython",
    "version": 3
   },
   "file_extension": ".py",
   "mimetype": "text/x-python",
   "name": "python",
   "nbconvert_exporter": "python",
   "pygments_lexer": "ipython3",
   "version": "3.9.10"
  }
 },
 "nbformat": 4,
 "nbformat_minor": 5
}
