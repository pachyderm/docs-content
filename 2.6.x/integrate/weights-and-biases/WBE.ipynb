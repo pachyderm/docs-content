{
 "cells": [
  {
   "cell_type": "markdown",
   "id": "22e6ea26-dee4-48bf-9433-2b3c58b32e59",
   "metadata": {},
   "source": [
    "# Weights and Biases Example\n",
    "\n",
    "This example shows a simple way to log metrics to Weights and Biases from Pachyderm. It uses a Pachyderm secret to establish a secure connection to your W&B server, and pushes the logs there as your Pachyderm job runs. \n",
    "\n",
    "<p align=\"center\">\n",
    "\t<img src='images/wandb_screenshot.png' width='600' title=''>\n",
    "</p>\n"
   ]
  },
  {
   "cell_type": "code",
   "execution_count": 1,
   "id": "51d9b67c-bd4b-49ea-8679-3ef709a323f6",
   "metadata": {},
   "outputs": [
    {
     "name": "stdout",
     "output_type": "stream",
     "text": [
      "COMPONENT           VERSION             \n",
      "pachctl             2.1.3               \n",
      "pachd               2.1.3               \n"
     ]
    }
   ],
   "source": [
    "!pachctl version"
   ]
  },
  {
   "cell_type": "markdown",
   "id": "93b780f0-82af-4790-a331-b9d168c22bad",
   "metadata": {},
   "source": [
    "## Create Pachyderm Secret \n",
    "First, we will create a Pachyderm secret that contains our Weights and Biases API key. "
   ]
  },
  {
   "cell_type": "code",
   "execution_count": 2,
   "id": "46070193-a0a6-455a-92a7-2ced40598c0f",
   "metadata": {},
   "outputs": [],
   "source": [
    "# Edit the secrets.json to contain your API key\n",
    "!pachctl create secret -f secrets.json"
   ]
  },
  {
   "cell_type": "markdown",
   "id": "055973bf-042b-40a8-a6ce-db04ecf0f123",
   "metadata": {},
   "source": [
    "## Upload dataset to Pachyderm\n",
    "In this example, we use the MNIST dataset. We'll download it locally, create a Pachyderm repo and then push the MNIST dataset to the repo. "
   ]
  },
  {
   "cell_type": "code",
   "execution_count": 3,
   "id": "2d62449a-bdd6-4a4d-aaae-88aa9656ebab",
   "metadata": {},
   "outputs": [],
   "source": [
    "!pachctl create repo mnist"
   ]
  },
  {
   "cell_type": "code",
   "execution_count": null,
   "id": "7e625f01-89dc-4e9f-aa59-310303a41536",
   "metadata": {
    "tags": []
   },
   "outputs": [],
   "source": [
    "# Download the dataset locally\n",
    "!python download_mnist.py --data-location ./data/\n",
    "\n",
    "# Push the dataset to Pachyderm\n",
    "!cd data && pachctl put file -r mnist@master:/ -f ./"
   ]
  },
  {
   "cell_type": "markdown",
   "id": "45a4d2b3-4b5c-4257-9cf4-2c10a72bae98",
   "metadata": {},
   "source": [
    "## Create Training Pipeline\n",
    "Our training pipeline consists of a `json` file that tells orchestrates how our python code will run. Here it takes the `mnist` data repository as input, runs the `mnist.py` training script, and logs the information to Weights and Biases. \n",
    "\n",
    "Our API key is passed via a secret to our pipeline, creating an environment variable `WANDB_API_KEY` when the pipeline is run. W&B uses this API key to establish a connection with our logging server. \n",
    "\n",
    "<p align=\"center\">\n",
    "\t<img src='images/pachyderm_mnist_screenshot.png' width='600' title=''>\n",
    "</p>"
   ]
  },
  {
   "cell_type": "code",
   "execution_count": 5,
   "id": "48795157-7460-4e2a-b68c-75e71ecf082f",
   "metadata": {},
   "outputs": [
    {
     "name": "stdout",
     "output_type": "stream",
     "text": [
      "{\n",
      "  \"pipeline\": {\n",
      "    \"name\": \"train-mnist\"\n",
      "  },\n",
      "  \"description\": \"Train MNIST example logging to W&B.\",\n",
      "  \"input\": {\n",
      "    \"pfs\": {\n",
      "      \"repo\": \"mnist\",\n",
      "      \"branch\": \"master\",\n",
      "      \"glob\": \"/\"\n",
      "    }\n",
      "  },\n",
      "  \"transform\": {\n",
      "    \"cmd\": [\n",
      "      \"/bin/sh\"\n",
      "    ],\n",
      "    \"stdin\": [\n",
      "      \"python mnist.py --data-location /pfs/mnist/ --wandb-project example-mnist-wandb\"\n",
      "    ],\n",
      "    \"image\": \"jimmywhitaker/wandb_mnist:0.1\",\n",
      "    \"secrets\": [\n",
      "      {\n",
      "        \"name\": \"wandb\",\n",
      "        \"env_var\": \"WANDB_API_KEY\",\n",
      "        \"key\": \"key\"\n",
      "      }\n",
      "    ]\n",
      "  }\n",
      "}"
     ]
    }
   ],
   "source": [
    "!cat train-mnist.json"
   ]
  },
  {
   "cell_type": "code",
   "execution_count": 6,
   "id": "d75fc095-2fa6-4a14-9a30-ef77acb24c3f",
   "metadata": {},
   "outputs": [],
   "source": [
    "!pachctl create pipeline -f train-mnist.json"
   ]
  },
  {
   "cell_type": "markdown",
   "id": "19a31c1c-18e3-4ec2-ab98-b608834e7238",
   "metadata": {},
   "source": [
    "## Clean Up Example\n",
    "Delete pipeline, dataset repo, and local files created. "
   ]
  },
  {
   "cell_type": "code",
   "execution_count": 7,
   "id": "d007dd01-a007-424b-908f-b198c2e9ec93",
   "metadata": {},
   "outputs": [],
   "source": [
    "!pachctl delete pipeline train-mnist\n",
    "\n",
    "!pachctl delete repo mnist\n",
    "\n",
    "!rm -rf data/"
   ]
  }
 ],
 "metadata": {
  "kernelspec": {
   "display_name": "Python 3 (ipykernel)",
   "language": "python",
   "name": "python3"
  },
  "language_info": {
   "codemirror_mode": {
    "name": "ipython",
    "version": 3
   },
   "file_extension": ".py",
   "mimetype": "text/x-python",
   "name": "python",
   "nbconvert_exporter": "python",
   "pygments_lexer": "ipython3",
   "version": "3.9.7"
  }
 },
 "nbformat": 4,
 "nbformat_minor": 5
}
