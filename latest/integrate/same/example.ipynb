{
 "cells": [
  {
   "cell_type": "markdown",
   "id": "3b0a1a38-c294-47be-b121-7be0a77a5823",
   "metadata": {
    "jupyter": {
     "outputs_hidden": true
    },
    "tags": []
   },
   "source": [
    "# SAME Project Example\n",
    "The [SAME Project](https://sameproject.ml/) is a library to turn your notebooks into pipelines, in our case, Pachyderm Pipelines.\n",
    "\n",
    "This example shows how to create a simple CSV description pipeline using python and `pandas`."
   ]
  },
  {
   "cell_type": "markdown",
   "id": "377e6540-aa1c-400f-929d-da0b6041879f",
   "metadata": {},
   "source": [
    "## Step 0. Setup\n",
    "Assuming you have a Pachyderm cluster set up, you can run the following commands to set up this project. "
   ]
  },
  {
   "cell_type": "markdown",
   "id": "fd7b29ae-6337-46d3-9f63-f266bce4a187",
   "metadata": {},
   "source": [
    "Install sameproject: \n",
    "```\n",
    "pip3 install --upgrade sameproject\n",
    "```"
   ]
  },
  {
   "cell_type": "markdown",
   "id": "ec4e4cac-def9-4ed7-b368-024ed0482e9e",
   "metadata": {},
   "source": [
    "Create a Pachyderm repo with a csv file in it. \n",
    "```bash\n",
    "pachctl create repo csv_data\n",
    "\n",
    "pachctl put file csv_data@master:housing-simplified.csv -f https://raw.githubusercontent.com/pachyderm/examples/example/automl/housing-prices/data/housing-simplified-1.csv\n",
    "```\n"
   ]
  },
  {
   "cell_type": "markdown",
   "id": "38e2a40b-f366-474c-93a1-b50edceca34a",
   "metadata": {},
   "source": [
    "## Step 1: Write our code\n",
    "All code written in code cells in the notebook will be executed in the pipeline when it runs. "
   ]
  },
  {
   "cell_type": "code",
   "execution_count": 2,
   "id": "0bd78e8b-9f47-4478-9e3a-b6d92a6fba75",
   "metadata": {},
   "outputs": [],
   "source": [
    "import pandas as pd"
   ]
  },
  {
   "cell_type": "code",
   "execution_count": 3,
   "id": "68e6713d-9040-4381-97ad-d9b0b4b64e09",
   "metadata": {},
   "outputs": [],
   "source": [
    "data = pd.read_csv('/pfs/csv_data/housing-simplified.csv')"
   ]
  },
  {
   "cell_type": "code",
   "execution_count": 6,
   "id": "fe011a3d-d0f2-4ec8-a792-4834f18b510c",
   "metadata": {},
   "outputs": [
    {
     "name": "stdout",
     "output_type": "stream",
     "text": [
      "               RM       LSTAT    PTRATIO           MEDV\n",
      "count  100.000000  100.000000  100.00000     100.000000\n",
      "mean     6.234410   10.772900   18.69000  468489.000000\n",
      "std      0.490838    5.700031    1.69893  124487.368143\n",
      "min      5.399000    1.980000   15.10000  266700.000000\n",
      "25%      5.926250    6.702500   17.90000  396900.000000\n",
      "50%      6.130500    9.465000   18.70000  451500.000000\n",
      "75%      6.433000   13.315000   19.70000  518700.000000\n",
      "max      8.069000   30.810000   21.10000  919800.000000\n"
     ]
    }
   ],
   "source": [
    "print(data.describe())"
   ]
  },
  {
   "cell_type": "markdown",
   "id": "da636f63-1701-42c6-a72c-5c41086bd6f8",
   "metadata": {},
   "source": [
    "## Step 2: Deploy Pipeline"
   ]
  },
  {
   "cell_type": "markdown",
   "id": "18c3ee35-3dc6-47ec-81f6-a4a0f19c8dca",
   "metadata": {},
   "source": [
    "### Initialize\n",
    "Use `same init` from the commandline to configure your `same.yaml`. \n",
    "\n",
    "```bash\n",
    "$ same init\n",
    "Name of this config: [default_config]:    same_test \n",
    "\n",
    "Notebook path [same_test.ipynb]: \n",
    "\n",
    "Notebook name [same_test]:   \n",
    "\n",
    "Default docker image [combinatorml/jupyterlab-tensorflow-opencv:0.9]: \n",
    "\n",
    "No requirements.txt found in current directory - would you like to create one? [Y/n]: Y\n",
    "\n",
    "Would you like SAME to fill in the requirements.txt for you? [Y/n]: n\n",
    "Wrote empty requirements file to /home/jovyan/examples/same/requirements.txt.\n",
    "\n",
    "About to write to /home/jovyan/examples/same/same.yaml:\n",
    "\n",
    "apiVersion: sameproject.ml/v1alpha1\n",
    "environments:\n",
    "  default:\n",
    "    image_tag: combinatorml/jupyterlab-tensorflow-opencv:0.9\n",
    "metadata:\n",
    "  labels: []\n",
    "  name: default_config\n",
    "  version: 0.0.0\n",
    "notebook:\n",
    "  name: same_test\n",
    "  path: same_test.ipynb\n",
    "  requirements: requirements.txt\n",
    "run:\n",
    "  name: default_config run\n",
    "\n",
    "Is this okay? [Y/n]: Y\n",
    "\n",
    "Wrote config file to /home/jovyan/examples/same/same.yaml.\n",
    "\n",
    "You can now run 'same verify' to check that everything is configured correctly\n",
    "(requires docker locally), or you can run 'same run' to deploy the pipeline to a\n",
    "configured backend (e.g. Kubeflow Pipelines in a Kubernetes cluster file pointed\n",
    "to by ~/.kube/config or set in the KUBECONFIG environment variable).\n",
    "```\n",
    "\n",
    "### Run Pipeline\n",
    "Run the following command to deploy your notebook as a Pachyderm pipeline. \n",
    "```\n",
    "same run --target pachyderm --input-repo csv_data\n",
    "```"
   ]
  }
 ],
 "metadata": {
  "kernelspec": {
   "display_name": "Python 3.9.6 64-bit",
   "language": "python",
   "name": "python3"
  },
  "language_info": {
   "codemirror_mode": {
    "name": "ipython",
    "version": 3
   },
   "file_extension": ".py",
   "mimetype": "text/x-python",
   "name": "python",
   "nbconvert_exporter": "python",
   "pygments_lexer": "ipython3",
   "version": "3.9.6"
  },
  "vscode": {
   "interpreter": {
    "hash": "31f2aee4e71d21fbe5cf8b01ff0e069b9275f58929596ceb00d14d90e3e16cd6"
   }
  }
 },
 "nbformat": 4,
 "nbformat_minor": 5
}
